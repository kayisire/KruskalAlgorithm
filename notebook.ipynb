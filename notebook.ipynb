{
 "cells": [
  {
   "cell_type": "markdown",
   "metadata": {},
   "source": [
    "### Using Kruskal's Algorithm to find the Shortest Route"
   ]
  },
  {
   "cell_type": "code",
   "execution_count": 6,
   "metadata": {},
   "outputs": [],
   "source": [
    "from collections import defaultdict\n",
    " \n",
    "# Graph Class\n",
    "class Graph:\n",
    "    def __init__(self, vertices):\n",
    "        self.V = vertices\n",
    "        self.graph = []\n",
    " \n",
    "    # Adding an edge to the graph\n",
    "    def addEdge(self, u, v, w):\n",
    "        self.graph.append([u, v, w])\n",
    " \n",
    "    # Finding set of an element i\n",
    "    def find(self, parent, i):\n",
    "        if parent[i] == i:\n",
    "            return i\n",
    "        return self.find(parent, parent[i])\n",
    " \n",
    "    # Union by rank of two sets of x and y\n",
    "    def union(self, parent, rank, x, y):\n",
    "        xroot = self.find(parent, x)\n",
    "        yroot = self.find(parent, y)\n",
    " \n",
    "        # Attach smaller rank tree under root of high rank tree\n",
    "        if rank[xroot] < rank[yroot]:\n",
    "            parent[xroot] = yroot\n",
    "        elif rank[xroot] > rank[yroot]:\n",
    "            parent[yroot] = xroot\n",
    "        else:\n",
    "            parent[yroot] = xroot\n",
    "            rank[xroot] += 1\n",
    " \n",
    "    # Constructing MST using Kruskal's Algorithm\n",
    "    def KruskalMST(self):\n",
    "        result = []\n",
    "        i = 0\n",
    "        e = 0\n",
    " \n",
    "        # Step 1: Sort all the edges in non-decreasing order of their weight.\n",
    "        self.graph = sorted(self.graph, key=lambda item: item[2])\n",
    " \n",
    "        parent = []\n",
    "        rank = []\n",
    " \n",
    "        # Create V subsets with single elements\n",
    "        for node in range(self.V):\n",
    "            parent.append(node)\n",
    "            rank.append(0)\n",
    " \n",
    "        # Number of edges to be taken is equal to V-1\n",
    "        while e < self.V - 1:\n",
    " \n",
    "            # Step 2: Pick the smallest edge and increment the index for next iteration\n",
    "            u, v, w = self.graph[i]\n",
    "            i = i + 1\n",
    "            x = self.find(parent, u)\n",
    "            y = self.find(parent, v)\n",
    " \n",
    "            if x != y:\n",
    "                e = e + 1\n",
    "                result.append([u, v, w])\n",
    "                self.union(parent, rank, x, y)\n",
    " \n",
    "        minimumCost = 0\n",
    "        print (\"Edges in the constructed MST\")\n",
    "        for u, v, weight in result:\n",
    "            minimumCost += weight\n",
    "            print(\"%d to %d has weight of: %d\" % (u, v, weight))\n",
    "        print(\"\\nTotal weight for the shortest route:\" , minimumCost)"
   ]
  },
  {
   "cell_type": "code",
   "execution_count": 7,
   "metadata": {},
   "outputs": [
    {
     "name": "stdout",
     "output_type": "stream",
     "text": [
      "Edges in the constructed MST\n",
      "2 to 3 has weight of: 4\n",
      "0 to 3 has weight of: 5\n",
      "0 to 1 has weight of: 10\n",
      "\n",
      "Total weight for the shortest route: 19\n"
     ]
    }
   ],
   "source": [
    "g = Graph(4)\n",
    "g.addEdge(0, 1, 10)\n",
    "g.addEdge(0, 2, 6)\n",
    "g.addEdge(0, 3, 5)\n",
    "g.addEdge(1, 3, 15)\n",
    "g.addEdge(2, 3, 4)\n",
    "\n",
    "g.KruskalMST()"
   ]
  }
 ],
 "metadata": {
  "kernelspec": {
   "display_name": "Python 3",
   "language": "python",
   "name": "python3"
  },
  "language_info": {
   "codemirror_mode": {
    "name": "ipython",
    "version": 3
   },
   "file_extension": ".py",
   "mimetype": "text/x-python",
   "name": "python",
   "nbconvert_exporter": "python",
   "pygments_lexer": "ipython3",
   "version": "3.8.5"
  }
 },
 "nbformat": 4,
 "nbformat_minor": 4
}
